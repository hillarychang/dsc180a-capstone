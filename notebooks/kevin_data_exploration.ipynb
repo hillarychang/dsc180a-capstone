{
 "cells": [
  {
   "cell_type": "code",
   "execution_count": 1,
   "metadata": {},
   "outputs": [],
   "source": [
    "import numpy as np\n",
    "import pandas as pd\n",
    "import matplotlib.pyplot as plt"
   ]
  },
  {
   "cell_type": "code",
   "execution_count": 2,
   "metadata": {},
   "outputs": [],
   "source": [
    "inflows = pd.read_parquet(\"../data/ucsd-inflows.pqt\")\n",
    "outflows = pd.read_parquet(\"../data/ucsd-outflows.pqt\")"
   ]
  },
  {
   "cell_type": "code",
   "execution_count": 18,
   "metadata": {},
   "outputs": [
    {
     "name": "stdout",
     "output_type": "stream",
     "text": [
      "Column: prism_consumer_id: \n",
      "Dtypes of int64\n",
      "Null Values: 0\n",
      "Shape: (2597488,)\n",
      "Unique Values: 2968\n",
      "Description: count    2.597488e+06\n",
      "mean     3.084229e+03\n",
      "std      1.820571e+03\n",
      "min      0.000000e+00\n",
      "25%      1.369000e+03\n",
      "50%      3.245000e+03\n",
      "75%      4.733000e+03\n",
      "max      5.943000e+03\n",
      "Name: prism_consumer_id, dtype: float64\n",
      "\n",
      "Column: prism_account_id: \n",
      "Dtypes of object\n",
      "Null Values: 0\n",
      "Shape: (2597488,)\n",
      "Unique Values: 4622\n",
      "Description: count      2597488\n",
      "unique        4622\n",
      "top       acc_9475\n",
      "freq          5470\n",
      "Name: prism_account_id, dtype: object\n",
      "\n",
      "Column: memo: \n",
      "Dtypes of object\n",
      "Null Values: 0\n",
      "Shape: (2597488,)\n",
      "Unique Values: 528786\n",
      "Description: count               2597488\n",
      "unique               528786\n",
      "top       EXTERNAL_TRANSFER\n",
      "freq                 320998\n",
      "Name: memo, dtype: object\n",
      "\n",
      "Column: amount: \n",
      "Dtypes of float64\n",
      "Null Values: 0\n",
      "Shape: (2597488,)\n",
      "Unique Values: 72262\n",
      "Description: count    2.597488e+06\n",
      "mean     1.451264e+02\n",
      "std      1.697875e+03\n",
      "min      0.000000e+00\n",
      "25%      9.630000e+00\n",
      "50%      2.426000e+01\n",
      "75%      6.636000e+01\n",
      "max      6.548532e+05\n",
      "Name: amount, dtype: float64\n",
      "\n",
      "Column: posted_date: \n",
      "Dtypes of object\n",
      "Null Values: 0\n",
      "Shape: (2597488,)\n",
      "Unique Values: 1952\n",
      "Description: count        2597488\n",
      "unique          1952\n",
      "top       2022-09-06\n",
      "freq           13664\n",
      "Name: posted_date, dtype: object\n",
      "\n",
      "Column: category: \n",
      "Dtypes of object\n",
      "Null Values: 0\n",
      "Shape: (2597488,)\n",
      "Unique Values: 29\n",
      "Description: count                 2597488\n",
      "unique                     29\n",
      "top       GENERAL_MERCHANDISE\n",
      "freq                   524063\n",
      "Name: category, dtype: object\n",
      "\n"
     ]
    }
   ],
   "source": [
    "# start with outflows\n",
    "\n",
    "for column in outflows.columns:\n",
    "    current_column = outflows[column]\n",
    "    dtypes, nulls, shape, unique_values = current_column.dtypes, np.sum(current_column.isnull()), current_column.shape, len(current_column.unique())\n",
    "    column_description = current_column.describe()\n",
    "    print(f\"Column: {column}: \\nDtypes of {dtypes}\")\n",
    "    print(f\"Null Values: {nulls}\")\n",
    "    print(f\"Shape: {shape}\")\n",
    "    print(f\"Unique Values: {unique_values}\")\n",
    "    print(f\"Description: {column_description}\\n\")\n",
    "\n"
   ]
  },
  {
   "cell_type": "code",
   "execution_count": null,
   "metadata": {},
   "outputs": [],
   "source": [
    "for column in out"
   ]
  },
  {
   "cell_type": "code",
   "execution_count": null,
   "metadata": {},
   "outputs": [],
   "source": []
  }
 ],
 "metadata": {
  "kernelspec": {
   "display_name": "base",
   "language": "python",
   "name": "python3"
  },
  "language_info": {
   "codemirror_mode": {
    "name": "ipython",
    "version": 3
   },
   "file_extension": ".py",
   "mimetype": "text/x-python",
   "name": "python",
   "nbconvert_exporter": "python",
   "pygments_lexer": "ipython3",
   "version": "3.11.5"
  }
 },
 "nbformat": 4,
 "nbformat_minor": 2
}
